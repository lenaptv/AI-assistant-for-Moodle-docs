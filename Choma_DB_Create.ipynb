{
 "cells": [
  {
   "cell_type": "code",
   "execution_count": null,
   "metadata": {
    "colab": {
     "base_uri": "https://localhost:8080/"
    },
    "id": "uqECz0jIG49W",
    "outputId": "0fdd7109-b8a6-4fc2-a5c4-58621e0e80d8"
   },
   "outputs": [],
   "source": [
    "from google.colab import drive\n",
    "drive.mount('/content/drive')\n"
   ]
  },
  {
   "cell_type": "code",
   "execution_count": null,
   "metadata": {
    "colab": {
     "base_uri": "https://localhost:8080/"
    },
    "id": "-jNq9uqsRB-c",
    "outputId": "1c2e018b-b702-40d9-d204-01822e052a62"
   },
   "outputs": [],
   "source": [
    "pip install -U langchain-community"
   ]
  },
  {
   "cell_type": "code",
   "execution_count": null,
   "metadata": {
    "colab": {
     "base_uri": "https://localhost:8080/"
    },
    "id": "U5kejEnbRDV-",
    "outputId": "572240c4-a3b2-4efb-b629-17de41ec1db8"
   },
   "outputs": [],
   "source": [
    "pip install chromadb"
   ]
  },
  {
   "cell_type": "markdown",
   "metadata": {
    "id": "CvReMtbg9uh4"
   },
   "source": [
    "# Загрузка в chromadb"
   ]
  },
  {
   "cell_type": "code",
   "execution_count": null,
   "metadata": {
    "colab": {
     "base_uri": "https://localhost:8080/"
    },
    "id": "IGtu_qiv9Kww",
    "outputId": "48d6bd82-175e-4d53-f933-907b9c05c353"
   },
   "outputs": [],
   "source": [
    "import os\n",
    "from langchain.document_loaders import TextLoader\n",
    "from langchain.text_splitter import RecursiveCharacterTextSplitter\n",
    "from langchain.vectorstores import Chroma\n",
    "from langchain.embeddings import HuggingFaceEmbeddings\n",
    "\n",
    "# === Параметры ===\n",
    "source_dir = \"/content/drive/MyDrive/moodle_docs9\"         # Папка с .md файлами\n",
    "persist_dir = \"/content/drive/MyDrive/chroma_db_qwen3\"              # Папка, куда сохранить ChromaDB\n",
    "embedding_model_name = \"Qwen/Qwen3-Embedding-0.6B\"\n",
    "\n",
    "# === Загрузка всех .md файлов ===\n",
    "documents = []\n",
    "for filename in os.listdir(source_dir):\n",
    "    if filename.endswith(\".md\"):\n",
    "        path = os.path.join(source_dir, filename)\n",
    "        loader = TextLoader(path, encoding=\"utf-8\")\n",
    "        documents.extend(loader.load())\n",
    "\n",
    "# === Нарезка на чанки ===\n",
    "splitter = RecursiveCharacterTextSplitter(chunk_size=256, chunk_overlap=50)\n",
    "chunks = splitter.split_documents(documents)\n",
    "\n",
    "# === Эмбеддинги ===\n",
    "embedding_model = HuggingFaceEmbeddings(model_name=embedding_model_name)\n",
    "\n",
    "# === Сохранение в ChromaDB ===\n",
    "vectorstore = Chroma.from_documents(\n",
    "    documents=chunks,\n",
    "    embedding=embedding_model,\n",
    "    persist_directory=persist_dir\n",
    ")\n",
    "\n",
    "vectorstore.persist()\n",
    "print(f\"Загружено {len(chunks)} чанков в ChromaDB ({persist_dir})\")"
   ]
  }
 ],
 "metadata": {
  "accelerator": "GPU",
  "colab": {
   "gpuType": "T4",
   "provenance": [],
   "toc_visible": true
  },
  "kernelspec": {
   "display_name": "Python 3",
   "name": "python3"
  },
  "language_info": {
   "name": "python"
  }
 },
 "nbformat": 4,
 "nbformat_minor": 0
}
